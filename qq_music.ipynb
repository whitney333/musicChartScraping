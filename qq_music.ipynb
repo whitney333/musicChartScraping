url = "https://i.y.qq.com/n2/m/share/details/toplist.html?ADTAG=newyqq.toplist&type=0&id=16"
response = requests.get(url)
soup = BeautifulSoup(response.text, 'html.parser')

# popout = qq_driver.find_element_by_xpath('//a[@class="popup__close"]')
# popout.click()
# time.sleep(1)


qq_list = []


for item in soup.findAll("li", {"class": "song_list__item"}):
    
#     soup.use['xlink:href']
    
    # 下降/ 上升 /NEW/ 持平
    rank_change = item.svg.use['xlink:href']
    rank_number = item.find("span", {"class": "song_list__index_change"}).getText()
    
    if rank_change == "#icon_rank_down":
        rank_position = "-" + rank_number
    elif rank_change == "#icon_rank_up":
        rank_position = "+" + rank_number
    elif rank_change == "#icon_rank_new":
        rank_position = "NEW"
    else:
        rank_position = "-"
    
    result = {
        "title": item.find("span", {"class": "song_list__txt"}).getText(),
        "ranking": item.find("span", {"class": "song_list__index_num"}).getText(),
        "rank_position": rank_position,
        "artist": item.find("p", {"class": "song_list__desc"}).getText()}
    
    qq_list.append(result)
