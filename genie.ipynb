options = Options()
#headless so browser can be instanced without showing the GUI
#options.add_argument("--headless")
options.add_argument('--disable-gpu')
options.add_argument('--disable-notifications')
options.add_argument('user-agent=Mozilla/5.0 (Windows NT 10.0; Win64; x64) AppleWebKit/537.36 (KHTML, like Gecko) Chrome/89.0.4389.72 Safari/537.36')

genie_driver = webdriver.Chrome("C:/Users/user/chromedriver_win32/chromedriver.exe", options = options)
# change the start date
genie_driver.get("https://www.genie.co.kr/chart/top200?ditc=W&rtm=N&ymd=20210426")
genie_driver.maximize_window()
time.sleep(3)

# # click calendar
# genie_driver.find_element_by_xpath('//h3[@id="inc_date"]/following-sibling::a').click()
# time.sleep(1)

# # select week
# genie_driver.find_element_by_xpath('//*[@class="wrap-week "]/a[5]').click()
# time.sleep(1)

# scrape
soup = BeautifulSoup(genie_driver.page_source) 

# create empty list
genie_list = []

for item in soup.findAll("tr", {"class": "list"}):
    rank_change = item.find("span", {"class": ["hide", "rank-new"]}).getText()
    
    if rank_change == "유지":
        rank_position = "-" 
    elif rank_change == "하강":
        rank_number = item.find("span", {"class": "rank-down"}).getText()[0].strip()
        rank_position = "-" + rank_number
    elif rank_change == "상승":
        rank_number = item.find("span", {"class": "rank-up"}).getText()[0].strip()
        rank_position = "+" + rank_number
    else:
        rank_position = "NEW"
        
        
    result = {
        "title": item.find("a", {"class": "title ellipsis"}).getText().strip(),
        "ranking": item.find("td", {"class": "number"}).text.split('\n')[0],
        "rank_position":  rank_position,
#         "album": item.find("a", {"class": "albumtitle ellipsis"}).getText().strip(),
        "artist": item.find("a", {"class": "artist ellipsis"}).getText()}
    
    genie_list.append(result)
    
# move to 51 - 100
next_50 = genie_driver.find_element_by_xpath('//*[@class="page-nav rank-page-nav"]/a[2]')
next_50.click()
time.sleep(2)

# parse
soup = BeautifulSoup(genie_driver.page_source) 

for item in soup.findAll("tr", {"class": "list"}):
    rank_change = item.find("span", {"class": ["hide", "rank-new"]}).getText()
    
    if rank_change == "유지":
        rank_position = "-" 
    elif rank_change == "하강":
        rank_number = item.find("span", {"class": "rank-down"}).getText()[0].strip()
        rank_position = "-" + rank_number
    elif rank_change == "상승":
        rank_number = item.find("span", {"class": "rank-up"}).getText()[0].strip()
        rank_position = "+" + rank_number
    else:
        rank_position = "NEW"
        
        
    result_2 = {
        "title": item.find("a", {"class": "title ellipsis"}).getText().strip(),
        "ranking": item.find("td", {"class": "number"}).text.split('\n')[0],
        "rank_position":  rank_position,
#         "album": item.find("a", {"class": "albumtitle ellipsis"}).getText().strip(),
        "artist": item.find("a", {"class": "artist ellipsis"}).getText()}
    
    genie_list.append(result_2)


genie_driver.quit()
