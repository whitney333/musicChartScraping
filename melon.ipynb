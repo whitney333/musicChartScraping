# selenium 
from selenium.webdriver import Chrome
from selenium import webdriver
from selenium.webdriver.common.by import By
from selenium.webdriver.common.keys import Keys
from selenium.webdriver.support.ui import WebDriverWait
from selenium.webdriver.support import expected_conditions as EC
from selenium.webdriver.chrome.options import Options
from selenium.webdriver.common.action_chains import ActionChains


import time
import requests
import urllib.request as req
from bs4 import BeautifulSoup
import pandas as pd
import numpy as np
import re
import pymongo
import datetime


options = Options()
#headless so browser can be instanced without showing the GUI
#options.add_argument("--headless")
options.add_argument('--disable-gpu')
options.add_argument('--disable-notifications')
options.add_argument('user-agent=Mozilla/5.0 (Windows NT 10.0; Win64; x64) AppleWebKit/537.36 (KHTML, like Gecko) Chrome/89.0.4389.72 Safari/537.36')

melon_driver = webdriver.Chrome("C:/Users/user/chromedriver_win32/chromedriver.exe", options = options)
melon_driver.get("https://www.melon.com/chart/week/index.htm")
melon_driver.maximize_window()
time.sleep(3)

# click calendar
melon_driver.find_element_by_xpath('//button[contains(@title, "달력 레이어 팝업")]').click()
time.sleep(2)

# click find all
melon_driver.find_element_by_xpath('//*[contains(@title, "최근 12주")]').click()
time.sleep(2)


# chart finder: 1. week chart -> 2. decade -> 3. year -> 4. month -> 5. week
chart_week_btn = melon_driver.find_element_by_xpath('//*[contains(@title, "주간차트")]')
chart_week_btn.click()
time.sleep(1)

decade_btn = melon_driver.find_element_by_xpath("//label[@for=\'decade_1\']")
decade_btn.click()
time.sleep(2)

year_btn = melon_driver.find_element_by_xpath('//label[@for=\'year_1\']')
year_btn.click()
time.sleep(2)

month_btn = melon_driver.find_element_by_xpath('//label[@for=\'month_4\']')
month_btn.click()
time.sleep(1)

week_btn = melon_driver.find_element_by_xpath('//label[@for=\'week_5\']')
week_btn.click()
time.sleep(1)

genre_btn = melon_driver.find_element_by_xpath('//label[@for=\'gnr_1\']')
genre_btn.click()
time.sleep(1)

search_btn = melon_driver.find_element_by_xpath('//*[contains(@type, "submit")]')
search_btn.click()
time.sleep(2)


melon = []

soup = BeautifulSoup(melon_driver.page_source) 

for item in soup.findAll("tr", {"class": "lst50"}):
    
    rank_change = item.find("span", {"class": ["icon_static", "icon_up", "icon_down", "icon_rank_new"]}).getText()
    if rank_change == "순위 동일":
        rank_position = "-" 
    elif rank_change == "단계 하락":
        rank_number = item.find("span", {"class": "down"}).getText()
        rank_position = "-" + rank_number
    elif rank_change == "단계 상승":
        rank_number = item.find("span", {"class": "up"}).getText()
        rank_position = "+" + rank_number
    else:
        rank_position = "NEW"

    result = {
        "title": item.find("div", {"class": "ellipsis rank01"}).getText().strip(),
        "ranking": item.find("span", {"class": ["rank top", "rank"]}).getText(),
        "rank_position":  rank_position,
#         "album": item.find("div", {"class": "ellipsis rank03"}).getText().strip(),
        "artist": item.find("span", {"class": "checkEllipsis"}).getText()}
    melon.append(result)
    
#         "songId": re.search(r'goSongDetail\(\'(.*)\'\)', str(item )).group(1),
#         "albumId": re.search(r'goAlbumDetail\(\'(.*)\'\)', str(item )).group(1)


# move to 50 - 100
next_50 = melon_driver.find_element_by_xpath('//*[contains(@title, "위 - 페이지 이동")]')
next_50.click()
time.sleep(2)

soup = BeautifulSoup(melon_driver.page_source) 

for item in soup.findAll("tr", {"class": "lst100"}):
    
    rank_change = item.find("span", {"class": ["icon_static", "icon_up", "icon_down", "icon_rank_new"]}).getText()
    if rank_change == "순위 동일":
        rank_position = "-" 
    elif rank_change == "단계 하락":
        rank_number = item.find("span", {"class": "down"}).getText()
        rank_position = "-" + rank_number
    elif rank_change == "단계 상승":
        rank_number = item.find("span", {"class": "up"}).getText()
        rank_position = "+" + rank_number
    else:
        rank_position = "NEW"

    result_2 = {
        "title": item.find("div", {"class": "ellipsis rank01"}).getText().strip(),
        "ranking": item.find("span", {"class": ["rank top", "rank"]}).getText(),
        "rank_position":  rank_position,
#         "album": item.find("div", {"class": "ellipsis rank03"}).getText().strip(),
        "artist": item.find("span", {"class": "checkEllipsis"}).getText()}
    
    melon.append(result_2)



melon_driver.quit()
