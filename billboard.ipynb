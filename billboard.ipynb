options = Options()
#headless so browser can be instanced without showing the GUI
#options.add_argument("--headless")
options.add_argument('--disable-gpu')
options.add_argument('--disable-notifications')
options.add_argument('user-agent=Mozilla/5.0 (Windows NT 10.0; Win64; x64) AppleWebKit/537.36 (KHTML, like Gecko) Chrome/89.0.4389.72 Safari/537.36')

bb_driver = webdriver.Chrome("C:/Users/user/chromedriver_win32/chromedriver.exe", options = options)
bb_driver.get("http://billboard.co.kr/chart/week/")
bb_driver.maximize_window()
time.sleep(3)

# parse page
soup = BeautifulSoup(bb_driver.page_source)
bb_list = []

for item in soup.find("ul", {"class": "ul_td"}).findAll("li"):
    
    rank_number = item.find('i', {"class": ["icon_line", "icon_up", "icon_down", "icon_new", "icon_reenter"]}).getText()
    
    rank_up = item.find(lambda tag: tag.name == 'i' and tag.get('class') == ['icon_up'])
    rank_down = item.find(lambda tag: tag.name == 'i' and tag.get('class') == ['icon_down'])
    rank_same = item.find(lambda tag: tag.name == 'i' and tag.get('class') == ['icon_line'])
    rank_new = item.find(lambda tag: tag.name == 'i' and tag.get('class') == ['icon_new'])
#     rank_reenter = item.find(lambda tag: tag.name == 'i' and tag.get('class') == ['icon_reenter'])
    
    if rank_up:
        rank_position = "+" + rank_number
    elif rank_down:
        rank_position = "-" + rank_number
    elif rank_same:
        rank_position = "-"
    elif rank_new:
        rank_position = "NEW"
    else:
        rank_position = "Re-enter"
            
    result = {
        "title": item.find("div", {"class": "chart_tit_tt"}).find('p').text,
        "ranking": item.find("div", {"class": "chart_num wid_13"}).find('span').getText(),
        "rank_position":  rank_position,
        "artist": item.find("span", {"class": "chart_artist"}).getText()}
    
    bb_list.append(result)

bb_driver.quit()
